{
 "cells": [
  {
   "cell_type": "markdown",
   "metadata": {},
   "source": [
    "# Starting Out and Loading Data\n",
    "\n",
    "We're going to get started by loading up yt.  This next command brings all of the libraries into memory and sets up our environment."
   ]
  },
  {
   "cell_type": "code",
   "execution_count": 6,
   "metadata": {},
   "outputs": [],
   "source": [
    "import yt"
   ]
  },
  {
   "cell_type": "markdown",
   "metadata": {},
   "source": [
    "Now that we've loaded yt, we can load up some data.  Let's load the `IsolatedGalaxy` dataset."
   ]
  },
  {
   "cell_type": "code",
   "execution_count": 31,
   "metadata": {},
   "outputs": [],
   "source": [
    "import analysis_schema"
   ]
  },
  {
   "cell_type": "code",
   "execution_count": 7,
   "metadata": {},
   "outputs": [
    {
     "name": "stderr",
     "output_type": "stream",
     "text": [
      "yt : [INFO     ] 2020-05-29 14:19:49,554 Parameters: current_time              = 0.0060000200028298\n",
      "yt : [INFO     ] 2020-05-29 14:19:49,554 Parameters: domain_dimensions         = [32 32 32]\n",
      "yt : [INFO     ] 2020-05-29 14:19:49,556 Parameters: domain_left_edge          = [0. 0. 0.]\n",
      "yt : [INFO     ] 2020-05-29 14:19:49,556 Parameters: domain_right_edge         = [1. 1. 1.]\n",
      "yt : [INFO     ] 2020-05-29 14:19:49,561 Parameters: cosmological_simulation   = 0.0\n"
     ]
    }
   ],
   "source": [
    "ds = yt.load(\"IsolatedGalaxy/galaxy0030/galaxy0030\")"
   ]
  },
  {
   "cell_type": "markdown",
   "metadata": {},
   "source": [
    "## Fields and Facts\n",
    "\n",
    "When you call the `load` function, yt tries to do very little -- this is designed to be a fast operation, just setting up some information about the simulation.  Now, the first time you access the \"index\" it will read and load the mesh and then determine where data is placed in the physical domain and on disk.  Once it knows that, yt can tell you some statistics about the simulation:"
   ]
  },
  {
   "cell_type": "code",
   "execution_count": 8,
   "metadata": {},
   "outputs": [
    {
     "name": "stderr",
     "output_type": "stream",
     "text": [
      "Parsing Hierarchy : 100%|██████████| 173/173 [00:00<00:00, 4356.37it/s]\n",
      "yt : [INFO     ] 2020-05-29 14:19:52,489 Gathering a field list (this may take a moment.)\n"
     ]
    },
    {
     "name": "stdout",
     "output_type": "stream",
     "text": [
      "level\t# grids\t       # cells\t     # cells^3\n",
      "----------------------------------------------\n",
      "  0\t     1\t         32768\t            32\n",
      "  1\t     8\t         34304\t            33\n",
      "  2\t     8\t        181888\t            57\n",
      "  3\t     8\t        646968\t            87\n",
      "  4\t    15\t        947856\t            99\n",
      "  5\t    51\t        874128\t            96\n",
      "  6\t    18\t        786328\t            93\n",
      "  7\t    28\t        446776\t            77\n",
      "  8\t    36\t        209400\t            60\n",
      "----------------------------------------------\n",
      "   \t   173\t       4160416\n",
      "\n",
      "\n",
      "t = 6.00002000e-03 = 1.39768066e+16 s = 4.42898275e+08 years\n",
      "\n",
      "Smallest Cell:\n",
      "\tWidth: 1.221e-04 Mpc\n",
      "\tWidth: 1.221e+02 pc\n",
      "\tWidth: 2.518e+07 AU\n",
      "\tWidth: 3.767e+20 cm\n"
     ]
    }
   ],
   "source": [
    "ds.print_stats()"
   ]
  },
  {
   "cell_type": "markdown",
   "metadata": {},
   "source": [
    "yt can also tell you the fields it found on disk:"
   ]
  },
  {
   "cell_type": "code",
   "execution_count": 9,
   "metadata": {},
   "outputs": [
    {
     "data": {
      "text/plain": [
       "[('all', 'creation_time'),\n",
       " ('all', 'dynamical_time'),\n",
       " ('all', 'metallicity_fraction'),\n",
       " ('all', 'particle_index'),\n",
       " ('all', 'particle_mass'),\n",
       " ('all', 'particle_position_x'),\n",
       " ('all', 'particle_position_y'),\n",
       " ('all', 'particle_position_z'),\n",
       " ('all', 'particle_type'),\n",
       " ('all', 'particle_velocity_x'),\n",
       " ('all', 'particle_velocity_y'),\n",
       " ('all', 'particle_velocity_z'),\n",
       " ('enzo', 'Average_creation_time'),\n",
       " ('enzo', 'Bx'),\n",
       " ('enzo', 'By'),\n",
       " ('enzo', 'Bz'),\n",
       " ('enzo', 'Cooling_Time'),\n",
       " ('enzo', 'Dark_Matter_Density'),\n",
       " ('enzo', 'Density'),\n",
       " ('enzo', 'Electron_Density'),\n",
       " ('enzo', 'Forming_Stellar_Mass_Density'),\n",
       " ('enzo', 'Galaxy1Colour'),\n",
       " ('enzo', 'Galaxy2Colour'),\n",
       " ('enzo', 'HII_Density'),\n",
       " ('enzo', 'HI_Density'),\n",
       " ('enzo', 'HeIII_Density'),\n",
       " ('enzo', 'HeII_Density'),\n",
       " ('enzo', 'HeI_Density'),\n",
       " ('enzo', 'MBHColour'),\n",
       " ('enzo', 'Metal_Density'),\n",
       " ('enzo', 'PhiField'),\n",
       " ('enzo', 'Phi_pField'),\n",
       " ('enzo', 'SFR_Density'),\n",
       " ('enzo', 'Star_Particle_Density'),\n",
       " ('enzo', 'Temperature'),\n",
       " ('enzo', 'TotalEnergy'),\n",
       " ('enzo', 'gammaHI'),\n",
       " ('enzo', 'kphHI'),\n",
       " ('enzo', 'kphHeI'),\n",
       " ('enzo', 'kphHeII'),\n",
       " ('enzo', 'x-velocity'),\n",
       " ('enzo', 'y-velocity'),\n",
       " ('enzo', 'z-velocity'),\n",
       " ('io', 'creation_time'),\n",
       " ('io', 'dynamical_time'),\n",
       " ('io', 'metallicity_fraction'),\n",
       " ('io', 'particle_index'),\n",
       " ('io', 'particle_mass'),\n",
       " ('io', 'particle_position_x'),\n",
       " ('io', 'particle_position_y'),\n",
       " ('io', 'particle_position_z'),\n",
       " ('io', 'particle_type'),\n",
       " ('io', 'particle_velocity_x'),\n",
       " ('io', 'particle_velocity_y'),\n",
       " ('io', 'particle_velocity_z')]"
      ]
     },
     "execution_count": 9,
     "metadata": {},
     "output_type": "execute_result"
    }
   ],
   "source": [
    "ds.field_list"
   ]
  },
  {
   "cell_type": "markdown",
   "metadata": {},
   "source": [
    "And, all of the fields it thinks it knows how to generate:"
   ]
  },
  {
   "cell_type": "code",
   "execution_count": 10,
   "metadata": {},
   "outputs": [
    {
     "data": {
      "text/plain": [
       "[('all', 'age'),\n",
       " ('all', 'creation_time'),\n",
       " ('all', 'dynamical_time'),\n",
       " ('all', 'mesh_id'),\n",
       " ('all', 'metallicity_fraction'),\n",
       " ('all', 'particle_angular_momentum'),\n",
       " ('all', 'particle_angular_momentum_magnitude'),\n",
       " ('all', 'particle_angular_momentum_x'),\n",
       " ('all', 'particle_angular_momentum_y'),\n",
       " ('all', 'particle_angular_momentum_z'),\n",
       " ('all', 'particle_cylindrical_velocity_theta'),\n",
       " ('all', 'particle_cylindrical_velocity_z'),\n",
       " ('all', 'particle_index'),\n",
       " ('all', 'particle_mass'),\n",
       " ('all', 'particle_ones'),\n",
       " ('all', 'particle_position'),\n",
       " ('all', 'particle_position_cylindrical_radius'),\n",
       " ('all', 'particle_position_cylindrical_theta'),\n",
       " ('all', 'particle_position_cylindrical_z'),\n",
       " ('all', 'particle_position_relative'),\n",
       " ('all', 'particle_position_relative_x'),\n",
       " ('all', 'particle_position_relative_y'),\n",
       " ('all', 'particle_position_relative_z'),\n",
       " ('all', 'particle_position_spherical_phi'),\n",
       " ('all', 'particle_position_spherical_radius'),\n",
       " ('all', 'particle_position_spherical_theta'),\n",
       " ('all', 'particle_position_x'),\n",
       " ('all', 'particle_position_y'),\n",
       " ('all', 'particle_position_z'),\n",
       " ('all', 'particle_radial_velocity'),\n",
       " ('all', 'particle_radius'),\n",
       " ('all', 'particle_specific_angular_momentum'),\n",
       " ('all', 'particle_specific_angular_momentum_x'),\n",
       " ('all', 'particle_specific_angular_momentum_y'),\n",
       " ('all', 'particle_specific_angular_momentum_z'),\n",
       " ('all', 'particle_spherical_position_phi'),\n",
       " ('all', 'particle_spherical_position_radius'),\n",
       " ('all', 'particle_spherical_position_theta'),\n",
       " ('all', 'particle_spherical_velocity_phi'),\n",
       " ('all', 'particle_spherical_velocity_radius'),\n",
       " ('all', 'particle_spherical_velocity_theta'),\n",
       " ('all', 'particle_type'),\n",
       " ('all', 'particle_velocity'),\n",
       " ('all', 'particle_velocity_cylindrical_radius'),\n",
       " ('all', 'particle_velocity_cylindrical_theta'),\n",
       " ('all', 'particle_velocity_cylindrical_z'),\n",
       " ('all', 'particle_velocity_magnitude'),\n",
       " ('all', 'particle_velocity_relative'),\n",
       " ('all', 'particle_velocity_relative_x'),\n",
       " ('all', 'particle_velocity_relative_y'),\n",
       " ('all', 'particle_velocity_relative_z'),\n",
       " ('all', 'particle_velocity_spherical_phi'),\n",
       " ('all', 'particle_velocity_spherical_radius'),\n",
       " ('all', 'particle_velocity_spherical_theta'),\n",
       " ('all', 'particle_velocity_x'),\n",
       " ('all', 'particle_velocity_y'),\n",
       " ('all', 'particle_velocity_z'),\n",
       " ('all', 'relative_particle_position'),\n",
       " ('all', 'relative_particle_position_x'),\n",
       " ('all', 'relative_particle_position_y'),\n",
       " ('all', 'relative_particle_position_z'),\n",
       " ('all', 'relative_particle_velocity'),\n",
       " ('all', 'relative_particle_velocity_x'),\n",
       " ('all', 'relative_particle_velocity_y'),\n",
       " ('all', 'relative_particle_velocity_z'),\n",
       " ('deposit', 'all_cic'),\n",
       " ('deposit', 'all_cic_age'),\n",
       " ('deposit', 'all_cic_velocity_x'),\n",
       " ('deposit', 'all_cic_velocity_y'),\n",
       " ('deposit', 'all_cic_velocity_z'),\n",
       " ('deposit', 'all_count'),\n",
       " ('deposit', 'all_density'),\n",
       " ('deposit', 'all_mass'),\n",
       " ('deposit', 'all_nn_age'),\n",
       " ('deposit', 'all_nn_velocity_x'),\n",
       " ('deposit', 'all_nn_velocity_y'),\n",
       " ('deposit', 'all_nn_velocity_z'),\n",
       " ('deposit', 'io_cic'),\n",
       " ('deposit', 'io_cic_age'),\n",
       " ('deposit', 'io_cic_velocity_x'),\n",
       " ('deposit', 'io_cic_velocity_y'),\n",
       " ('deposit', 'io_cic_velocity_z'),\n",
       " ('deposit', 'io_count'),\n",
       " ('deposit', 'io_density'),\n",
       " ('deposit', 'io_mass'),\n",
       " ('deposit', 'io_nn_age'),\n",
       " ('deposit', 'io_nn_velocity_x'),\n",
       " ('deposit', 'io_nn_velocity_y'),\n",
       " ('deposit', 'io_nn_velocity_z'),\n",
       " ('enzo', 'Average_creation_time'),\n",
       " ('enzo', 'Bx'),\n",
       " ('enzo', 'By'),\n",
       " ('enzo', 'Bz'),\n",
       " ('enzo', 'Cooling_Time'),\n",
       " ('enzo', 'Dark_Matter_Density'),\n",
       " ('enzo', 'Density'),\n",
       " ('enzo', 'Electron_Density'),\n",
       " ('enzo', 'Forming_Stellar_Mass_Density'),\n",
       " ('enzo', 'Galaxy1Colour'),\n",
       " ('enzo', 'Galaxy2Colour'),\n",
       " ('enzo', 'HII_Density'),\n",
       " ('enzo', 'HI_Density'),\n",
       " ('enzo', 'HeIII_Density'),\n",
       " ('enzo', 'HeII_Density'),\n",
       " ('enzo', 'HeI_Density'),\n",
       " ('enzo', 'MBHColour'),\n",
       " ('enzo', 'Metal_Density'),\n",
       " ('enzo', 'PhiField'),\n",
       " ('enzo', 'Phi_pField'),\n",
       " ('enzo', 'SFR_Density'),\n",
       " ('enzo', 'Star_Particle_Density'),\n",
       " ('enzo', 'Temperature'),\n",
       " ('enzo', 'TotalEnergy'),\n",
       " ('enzo', 'cell_volume'),\n",
       " ('enzo', 'dx'),\n",
       " ('enzo', 'dy'),\n",
       " ('enzo', 'dz'),\n",
       " ('enzo', 'gammaHI'),\n",
       " ('enzo', 'kphHI'),\n",
       " ('enzo', 'kphHeI'),\n",
       " ('enzo', 'kphHeII'),\n",
       " ('enzo', 'path_element_x'),\n",
       " ('enzo', 'path_element_y'),\n",
       " ('enzo', 'path_element_z'),\n",
       " ('enzo', 'vertex_x'),\n",
       " ('enzo', 'vertex_y'),\n",
       " ('enzo', 'vertex_z'),\n",
       " ('enzo', 'x'),\n",
       " ('enzo', 'x-velocity'),\n",
       " ('enzo', 'y'),\n",
       " ('enzo', 'y-velocity'),\n",
       " ('enzo', 'z'),\n",
       " ('enzo', 'z-velocity'),\n",
       " ('gas', 'El_density'),\n",
       " ('gas', 'El_fraction'),\n",
       " ('gas', 'El_mass'),\n",
       " ('gas', 'El_number_density'),\n",
       " ('gas', 'H_density'),\n",
       " ('gas', 'H_fraction'),\n",
       " ('gas', 'H_mass'),\n",
       " ('gas', 'H_nuclei_density'),\n",
       " ('gas', 'H_number_density'),\n",
       " ('gas', 'H_p0_density'),\n",
       " ('gas', 'H_p0_fraction'),\n",
       " ('gas', 'H_p0_mass'),\n",
       " ('gas', 'H_p0_number_density'),\n",
       " ('gas', 'H_p1_density'),\n",
       " ('gas', 'H_p1_fraction'),\n",
       " ('gas', 'H_p1_mass'),\n",
       " ('gas', 'H_p1_number_density'),\n",
       " ('gas', 'He_density'),\n",
       " ('gas', 'He_fraction'),\n",
       " ('gas', 'He_mass'),\n",
       " ('gas', 'He_nuclei_density'),\n",
       " ('gas', 'He_number_density'),\n",
       " ('gas', 'He_p0_density'),\n",
       " ('gas', 'He_p0_fraction'),\n",
       " ('gas', 'He_p0_mass'),\n",
       " ('gas', 'He_p0_number_density'),\n",
       " ('gas', 'He_p1_density'),\n",
       " ('gas', 'He_p1_fraction'),\n",
       " ('gas', 'He_p1_mass'),\n",
       " ('gas', 'He_p1_number_density'),\n",
       " ('gas', 'He_p2_density'),\n",
       " ('gas', 'He_p2_fraction'),\n",
       " ('gas', 'He_p2_mass'),\n",
       " ('gas', 'He_p2_number_density'),\n",
       " ('gas', 'alfven_speed'),\n",
       " ('gas', 'angular_momentum_magnitude'),\n",
       " ('gas', 'angular_momentum_x'),\n",
       " ('gas', 'angular_momentum_y'),\n",
       " ('gas', 'angular_momentum_z'),\n",
       " ('gas', 'averaged_density'),\n",
       " ('gas', 'baroclinic_vorticity_magnitude'),\n",
       " ('gas', 'baroclinic_vorticity_x'),\n",
       " ('gas', 'baroclinic_vorticity_y'),\n",
       " ('gas', 'baroclinic_vorticity_z'),\n",
       " ('gas', 'cell_mass'),\n",
       " ('gas', 'cell_volume'),\n",
       " ('gas', 'chandra_emissivity'),\n",
       " ('gas', 'cooling_time'),\n",
       " ('gas', 'courant_time_step'),\n",
       " ('gas', 'cutting_plane_magnetic_field_x'),\n",
       " ('gas', 'cutting_plane_magnetic_field_y'),\n",
       " ('gas', 'cutting_plane_magnetic_field_z'),\n",
       " ('gas', 'cutting_plane_velocity_x'),\n",
       " ('gas', 'cutting_plane_velocity_y'),\n",
       " ('gas', 'cutting_plane_velocity_z'),\n",
       " ('gas', 'cylindrical_radial_magnetic_field'),\n",
       " ('gas', 'cylindrical_radial_magnetic_field_absolute'),\n",
       " ('gas', 'cylindrical_radial_velocity'),\n",
       " ('gas', 'cylindrical_radial_velocity_absolute'),\n",
       " ('gas', 'cylindrical_tangential_magnetic_field'),\n",
       " ('gas', 'cylindrical_tangential_magnetic_field_absolute'),\n",
       " ('gas', 'cylindrical_tangential_velocity'),\n",
       " ('gas', 'cylindrical_tangential_velocity_absolute'),\n",
       " ('gas', 'dark_matter_density'),\n",
       " ('gas', 'density'),\n",
       " ('gas', 'density_gradient_magnitude'),\n",
       " ('gas', 'density_gradient_x'),\n",
       " ('gas', 'density_gradient_y'),\n",
       " ('gas', 'density_gradient_z'),\n",
       " ('gas', 'dx'),\n",
       " ('gas', 'dy'),\n",
       " ('gas', 'dynamical_time'),\n",
       " ('gas', 'dz'),\n",
       " ('gas', 'emission_measure'),\n",
       " ('gas', 'entropy'),\n",
       " ('gas', 'jeans_mass'),\n",
       " ('gas', 'kT'),\n",
       " ('gas', 'kinetic_energy'),\n",
       " ('gas', 'mach_alfven'),\n",
       " ('gas', 'mach_number'),\n",
       " ('gas', 'magnetic_energy'),\n",
       " ('gas', 'magnetic_field_cylindrical_radius'),\n",
       " ('gas', 'magnetic_field_cylindrical_theta'),\n",
       " ('gas', 'magnetic_field_cylindrical_z'),\n",
       " ('gas', 'magnetic_field_divergence'),\n",
       " ('gas', 'magnetic_field_divergence_absolute'),\n",
       " ('gas', 'magnetic_field_magnitude'),\n",
       " ('gas', 'magnetic_field_poloidal'),\n",
       " ('gas', 'magnetic_field_spherical_phi'),\n",
       " ('gas', 'magnetic_field_spherical_radius'),\n",
       " ('gas', 'magnetic_field_spherical_theta'),\n",
       " ('gas', 'magnetic_field_strength'),\n",
       " ('gas', 'magnetic_field_toroidal'),\n",
       " ('gas', 'magnetic_field_x'),\n",
       " ('gas', 'magnetic_field_y'),\n",
       " ('gas', 'magnetic_field_z'),\n",
       " ('gas', 'magnetic_pressure'),\n",
       " ('gas', 'matter_density'),\n",
       " ('gas', 'matter_mass'),\n",
       " ('gas', 'mazzotta_weighting'),\n",
       " ('gas', 'mean_molecular_weight'),\n",
       " ('gas', 'metal_density'),\n",
       " ('gas', 'metal_mass'),\n",
       " ('gas', 'metallicity'),\n",
       " ('gas', 'number_density'),\n",
       " ('gas', 'path_element_x'),\n",
       " ('gas', 'path_element_y'),\n",
       " ('gas', 'path_element_z'),\n",
       " ('gas', 'plasma_beta'),\n",
       " ('gas', 'pressure'),\n",
       " ('gas', 'pressure_gradient_magnitude'),\n",
       " ('gas', 'pressure_gradient_x'),\n",
       " ('gas', 'pressure_gradient_y'),\n",
       " ('gas', 'pressure_gradient_z'),\n",
       " ('gas', 'radial_mach_number'),\n",
       " ('gas', 'radial_magnetic_field'),\n",
       " ('gas', 'radial_magnetic_field_absolute'),\n",
       " ('gas', 'radial_velocity'),\n",
       " ('gas', 'radial_velocity_absolute'),\n",
       " ('gas', 'relative_magnetic_field_x'),\n",
       " ('gas', 'relative_magnetic_field_y'),\n",
       " ('gas', 'relative_magnetic_field_z'),\n",
       " ('gas', 'relative_velocity_x'),\n",
       " ('gas', 'relative_velocity_y'),\n",
       " ('gas', 'relative_velocity_z'),\n",
       " ('gas', 'shear'),\n",
       " ('gas', 'shear_criterion'),\n",
       " ('gas', 'shear_mach'),\n",
       " ('gas', 'sound_speed'),\n",
       " ('gas', 'specific_angular_momentum_magnitude'),\n",
       " ('gas', 'specific_angular_momentum_x'),\n",
       " ('gas', 'specific_angular_momentum_y'),\n",
       " ('gas', 'specific_angular_momentum_z'),\n",
       " ('gas', 'sz_kinetic'),\n",
       " ('gas', 'szy'),\n",
       " ('gas', 'tangential_magnetic_field'),\n",
       " ('gas', 'tangential_over_magnetic_field_magnitude'),\n",
       " ('gas', 'tangential_over_velocity_magnitude'),\n",
       " ('gas', 'tangential_velocity'),\n",
       " ('gas', 'temperature'),\n",
       " ('gas', 'thermal_energy'),\n",
       " ('gas', 'total_energy'),\n",
       " ('gas', 'velocity_cylindrical_radius'),\n",
       " ('gas', 'velocity_cylindrical_theta'),\n",
       " ('gas', 'velocity_cylindrical_z'),\n",
       " ('gas', 'velocity_divergence'),\n",
       " ('gas', 'velocity_divergence_absolute'),\n",
       " ('gas', 'velocity_magnitude'),\n",
       " ('gas', 'velocity_spherical_phi'),\n",
       " ('gas', 'velocity_spherical_radius'),\n",
       " ('gas', 'velocity_spherical_theta'),\n",
       " ('gas', 'velocity_x'),\n",
       " ('gas', 'velocity_y'),\n",
       " ('gas', 'velocity_z'),\n",
       " ('gas', 'vertex_x'),\n",
       " ('gas', 'vertex_y'),\n",
       " ('gas', 'vertex_z'),\n",
       " ('gas', 'vorticity_growth_magnitude'),\n",
       " ('gas', 'vorticity_growth_magnitude_absolute'),\n",
       " ('gas', 'vorticity_growth_timescale'),\n",
       " ('gas', 'vorticity_growth_x'),\n",
       " ('gas', 'vorticity_growth_y'),\n",
       " ('gas', 'vorticity_growth_z'),\n",
       " ('gas', 'vorticity_magnitude'),\n",
       " ('gas', 'vorticity_squared'),\n",
       " ('gas', 'vorticity_stretching_magnitude'),\n",
       " ('gas', 'vorticity_stretching_x'),\n",
       " ('gas', 'vorticity_stretching_y'),\n",
       " ('gas', 'vorticity_stretching_z'),\n",
       " ('gas', 'vorticity_x'),\n",
       " ('gas', 'vorticity_y'),\n",
       " ('gas', 'vorticity_z'),\n",
       " ('gas', 'x'),\n",
       " ('gas', 'xray_emissivity'),\n",
       " ('gas', 'y'),\n",
       " ('gas', 'z'),\n",
       " ('index', 'cell_volume'),\n",
       " ('index', 'cylindrical_r'),\n",
       " ('index', 'cylindrical_radius'),\n",
       " ('index', 'cylindrical_theta'),\n",
       " ('index', 'cylindrical_z'),\n",
       " ('index', 'disk_angle'),\n",
       " ('index', 'dx'),\n",
       " ('index', 'dy'),\n",
       " ('index', 'dz'),\n",
       " ('index', 'grid_indices'),\n",
       " ('index', 'grid_level'),\n",
       " ('index', 'height'),\n",
       " ('index', 'morton_index'),\n",
       " ('index', 'ones'),\n",
       " ('index', 'ones_over_dx'),\n",
       " ('index', 'path_element_x'),\n",
       " ('index', 'path_element_y'),\n",
       " ('index', 'path_element_z'),\n",
       " ('index', 'radius'),\n",
       " ('index', 'spherical_phi'),\n",
       " ('index', 'spherical_r'),\n",
       " ('index', 'spherical_radius'),\n",
       " ('index', 'spherical_theta'),\n",
       " ('index', 'vertex_x'),\n",
       " ('index', 'vertex_y'),\n",
       " ('index', 'vertex_z'),\n",
       " ('index', 'virial_radius_fraction'),\n",
       " ('index', 'x'),\n",
       " ('index', 'y'),\n",
       " ('index', 'z'),\n",
       " ('index', 'zeros'),\n",
       " ('io', 'age'),\n",
       " ('io', 'creation_time'),\n",
       " ('io', 'dynamical_time'),\n",
       " ('io', 'mesh_id'),\n",
       " ('io', 'metallicity_fraction'),\n",
       " ('io', 'particle_angular_momentum'),\n",
       " ('io', 'particle_angular_momentum_magnitude'),\n",
       " ('io', 'particle_angular_momentum_x'),\n",
       " ('io', 'particle_angular_momentum_y'),\n",
       " ('io', 'particle_angular_momentum_z'),\n",
       " ('io', 'particle_cylindrical_velocity_theta'),\n",
       " ('io', 'particle_cylindrical_velocity_z'),\n",
       " ('io', 'particle_index'),\n",
       " ('io', 'particle_mass'),\n",
       " ('io', 'particle_ones'),\n",
       " ('io', 'particle_position'),\n",
       " ('io', 'particle_position_cylindrical_radius'),\n",
       " ('io', 'particle_position_cylindrical_theta'),\n",
       " ('io', 'particle_position_cylindrical_z'),\n",
       " ('io', 'particle_position_relative'),\n",
       " ('io', 'particle_position_relative_x'),\n",
       " ('io', 'particle_position_relative_y'),\n",
       " ('io', 'particle_position_relative_z'),\n",
       " ('io', 'particle_position_spherical_phi'),\n",
       " ('io', 'particle_position_spherical_radius'),\n",
       " ('io', 'particle_position_spherical_theta'),\n",
       " ('io', 'particle_position_x'),\n",
       " ('io', 'particle_position_y'),\n",
       " ('io', 'particle_position_z'),\n",
       " ('io', 'particle_radial_velocity'),\n",
       " ('io', 'particle_radius'),\n",
       " ('io', 'particle_specific_angular_momentum'),\n",
       " ('io', 'particle_specific_angular_momentum_x'),\n",
       " ('io', 'particle_specific_angular_momentum_y'),\n",
       " ('io', 'particle_specific_angular_momentum_z'),\n",
       " ('io', 'particle_spherical_position_phi'),\n",
       " ('io', 'particle_spherical_position_radius'),\n",
       " ('io', 'particle_spherical_position_theta'),\n",
       " ('io', 'particle_spherical_velocity_phi'),\n",
       " ('io', 'particle_spherical_velocity_radius'),\n",
       " ('io', 'particle_spherical_velocity_theta'),\n",
       " ('io', 'particle_type'),\n",
       " ('io', 'particle_velocity'),\n",
       " ('io', 'particle_velocity_cylindrical_radius'),\n",
       " ('io', 'particle_velocity_cylindrical_theta'),\n",
       " ('io', 'particle_velocity_cylindrical_z'),\n",
       " ('io', 'particle_velocity_magnitude'),\n",
       " ('io', 'particle_velocity_relative'),\n",
       " ('io', 'particle_velocity_relative_x'),\n",
       " ('io', 'particle_velocity_relative_y'),\n",
       " ('io', 'particle_velocity_relative_z'),\n",
       " ('io', 'particle_velocity_spherical_phi'),\n",
       " ('io', 'particle_velocity_spherical_radius'),\n",
       " ('io', 'particle_velocity_spherical_theta'),\n",
       " ('io', 'particle_velocity_x'),\n",
       " ('io', 'particle_velocity_y'),\n",
       " ('io', 'particle_velocity_z'),\n",
       " ('io', 'relative_particle_position'),\n",
       " ('io', 'relative_particle_position_x'),\n",
       " ('io', 'relative_particle_position_y'),\n",
       " ('io', 'relative_particle_position_z'),\n",
       " ('io', 'relative_particle_velocity'),\n",
       " ('io', 'relative_particle_velocity_x'),\n",
       " ('io', 'relative_particle_velocity_y'),\n",
       " ('io', 'relative_particle_velocity_z')]"
      ]
     },
     "execution_count": 10,
     "metadata": {},
     "output_type": "execute_result"
    }
   ],
   "source": [
    "ds.derived_field_list"
   ]
  },
  {
   "cell_type": "markdown",
   "metadata": {},
   "source": [
    "yt can also transparently generate fields.  However, we encourage you to examine exactly what yt is doing when it generates those fields.  To see, you can ask for the source of a given field."
   ]
  },
  {
   "cell_type": "code",
   "execution_count": 11,
   "metadata": {},
   "outputs": [
    {
     "name": "stdout",
     "output_type": "stream",
     "text": [
      "    def _vorticity_x(field, data):\n",
      "        vz = data[ftype, \"relative_velocity_z\"]\n",
      "        vy = data[ftype, \"relative_velocity_y\"]\n",
      "        f  = ((vz[sl_center,sl_right,sl_center] -\n",
      "               vz[sl_center,sl_left,sl_center]) /\n",
      "              (div_fac*just_one(data[\"index\", \"dy\"])))\n",
      "        f -= ((vy[sl_center,sl_center,sl_right] -\n",
      "               vy[sl_center,sl_center,sl_left]) /\n",
      "              (div_fac*just_one(data[\"index\", \"dz\"])))\n",
      "        new_field = data.ds.arr(\n",
      "            np.zeros_like(vz, dtype=np.float64), f.units)\n",
      "        new_field[sl_center, sl_center, sl_center] = f\n",
      "        return new_field\n",
      "\n"
     ]
    }
   ],
   "source": [
    "print(ds.field_info[\"gas\", \"vorticity_x\"].get_source())"
   ]
  },
  {
   "cell_type": "markdown",
   "metadata": {},
   "source": [
    "yt stores information about the domain of the simulation:"
   ]
  },
  {
   "cell_type": "code",
   "execution_count": 12,
   "metadata": {},
   "outputs": [
    {
     "data": {
      "application/vnd.jupyter.widget-view+json": {
       "model_id": "676ddb267da44ed0b7e8c55cf2041d2a",
       "version_major": 2,
       "version_minor": 0
      },
      "text/plain": [
       "HBox(children=(Text(value='1.0', disabled=True), Text(value='1.0', disabled=True), Text(value='1.0', disabled=…"
      ]
     },
     "metadata": {},
     "output_type": "display_data"
    }
   ],
   "source": [
    "ds.domain_width"
   ]
  },
  {
   "cell_type": "markdown",
   "metadata": {},
   "source": [
    "yt can also convert this into various units:"
   ]
  },
  {
   "cell_type": "code",
   "execution_count": 13,
   "metadata": {},
   "outputs": [
    {
     "name": "stdout",
     "output_type": "stream",
     "text": [
      "[1000.10448889 1000.10448889 1000.10448889] kpc\n",
      "[2.06286359e+11 2.06286359e+11 2.06286359e+11] au\n",
      "[1.91755627e+19 1.91755627e+19 1.91755627e+19] mile\n"
     ]
    }
   ],
   "source": [
    "print (ds.domain_width.in_units(\"kpc\"))\n",
    "print (ds.domain_width.in_units(\"au\"))\n",
    "print (ds.domain_width.in_units(\"mile\"))"
   ]
  },
  {
   "cell_type": "markdown",
   "metadata": {},
   "source": [
    "Finally, we can get basic information about the particle types and number of particles in a simulation:"
   ]
  },
  {
   "cell_type": "code",
   "execution_count": 14,
   "metadata": {},
   "outputs": [
    {
     "name": "stdout",
     "output_type": "stream",
     "text": [
      "['io', 'all']\n",
      "['io']\n",
      "{'io': 1124453}\n"
     ]
    }
   ],
   "source": [
    "print (ds.particle_types)\n",
    "print (ds.particle_types_raw)\n",
    "print (ds.particle_type_counts)"
   ]
  },
  {
   "cell_type": "markdown",
   "metadata": {},
   "source": [
    "For this dataset, we see that there are two particle types defined, (`io` and `all`), but that only one of these particle types in `ds.particle_types_raw`. The `ds.particle_types` list contains *all* particle types in the simulation, including ones that are dynamically defined like particle unions. The `ds.particle_types_raw` list includes only particle types that are in the output file we loaded the dataset from.\n",
    "\n",
    "We can also see that there are a bit more than 1.1 million particles in this simulation. Only particle types in `ds.particle_types_raw` will appear in the `ds.particle_type_counts` dictionary."
   ]
  },
  {
   "cell_type": "markdown",
   "metadata": {},
   "source": [
    "# Mesh Structure\n",
    "\n",
    "If you're using a simulation type that has grids (for instance, here we're using an Enzo simulation) you can examine the structure of the mesh.  For the most part, you probably won't have to use this unless you're debugging a simulation or examining in detail what is going on."
   ]
  },
  {
   "cell_type": "markdown",
   "metadata": {},
   "source": [
    "##  How are we storing meshes? "
   ]
  },
  {
   "cell_type": "code",
   "execution_count": 15,
   "metadata": {},
   "outputs": [
    {
     "name": "stdout",
     "output_type": "stream",
     "text": [
      "[[0.         0.         0.        ]\n",
      " [0.25       0.21875    0.25      ]\n",
      " [0.5        0.21875    0.25      ]\n",
      " [0.21875    0.5        0.25      ]\n",
      " [0.5        0.5        0.25      ]\n",
      " [0.25       0.25       0.5       ]\n",
      " [0.5        0.25       0.5       ]\n",
      " [0.25       0.5        0.5       ]\n",
      " [0.5        0.5        0.5       ]\n",
      " [0.5        0.5        0.5       ]\n",
      " [0.5        0.5        0.5       ]\n",
      " [0.5        0.5        0.5       ]\n",
      " [0.5        0.5        0.5       ]\n",
      " [0.50976562 0.5        0.5       ]\n",
      " [0.50976562 0.5        0.50585938]\n",
      " [0.50976562 0.53515625 0.50585938]\n",
      " [0.52148438 0.53515625 0.50585938]\n",
      " [0.52148438 0.54101562 0.52539062]\n",
      " [0.52734375 0.53515625 0.50585938]\n",
      " [0.50976562 0.5        0.50585938]\n",
      " [0.50976562 0.5        0.5       ]\n",
      " [0.5        0.5        0.5       ]\n",
      " [0.5        0.5        0.5       ]\n",
      " [0.5        0.5        0.50585938]\n",
      " [0.50634766 0.50244141 0.50585938]\n",
      " [0.50488281 0.5        0.50585938]\n",
      " [0.5        0.50390625 0.50585938]\n",
      " [0.5        0.5        0.5       ]\n",
      " [0.28125    0.5        0.5       ]\n",
      " [0.3359375  0.5        0.5       ]\n",
      " [0.40625    0.5        0.5       ]\n",
      " [0.4453125  0.5        0.5       ]\n",
      " [0.44921875 0.52539062 0.50390625]\n",
      " [0.46289062 0.52734375 0.5       ]\n",
      " [0.48242188 0.52539062 0.5       ]\n",
      " [0.46875    0.54492188 0.5078125 ]\n",
      " [0.45703125 0.52539062 0.51953125]\n",
      " [0.47851562 0.52539062 0.5       ]\n",
      " [0.46484375 0.52539062 0.5       ]\n",
      " [0.45898438 0.52539062 0.50585938]\n",
      " [0.48242188 0.52539062 0.52539062]\n",
      " [0.47070312 0.52539062 0.51953125]\n",
      " [0.47851562 0.52539062 0.52539062]\n",
      " [0.47851562 0.5        0.5       ]\n",
      " [0.49023438 0.5        0.5       ]\n",
      " [0.49658203 0.51025391 0.50048828]\n",
      " [0.49462891 0.5        0.5       ]\n",
      " [0.49584961 0.5        0.5       ]\n",
      " [0.49584961 0.50048828 0.5       ]\n",
      " [0.49584961 0.5012207  0.5       ]\n",
      " [0.49804688 0.5012207  0.5       ]\n",
      " [0.49633789 0.50341797 0.5       ]\n",
      " [0.49658203 0.5012207  0.50073242]\n",
      " [0.49658203 0.50244141 0.50073242]\n",
      " [0.49780273 0.5012207  0.50146484]\n",
      " [0.5        0.28125    0.5       ]\n",
      " [0.5        0.3359375  0.5       ]\n",
      " [0.5        0.40625    0.5       ]\n",
      " [0.50195312 0.44140625 0.50585938]\n",
      " [0.5        0.45117188 0.5       ]\n",
      " [0.515625   0.44335938 0.5       ]\n",
      " [0.53125    0.46289062 0.5       ]\n",
      " [0.53125    0.49023438 0.5       ]\n",
      " [0.53125    0.4609375  0.515625  ]\n",
      " [0.53125    0.47265625 0.515625  ]\n",
      " [0.53125    0.48046875 0.515625  ]\n",
      " [0.53125    0.48632812 0.53125   ]\n",
      " [0.54101562 0.484375   0.515625  ]\n",
      " [0.53710938 0.48046875 0.53320312]\n",
      " [0.5        0.47460938 0.50195312]\n",
      " [0.5        0.47949219 0.5       ]\n",
      " [0.50292969 0.4765625  0.50195312]\n",
      " [0.50195312 0.48779297 0.50048828]\n",
      " [0.5        0.48974609 0.5       ]\n",
      " [0.5        0.49609375 0.50976562]\n",
      " [0.5        0.49414062 0.5       ]\n",
      " [0.5        0.49707031 0.5       ]\n",
      " [0.28125    0.28125    0.5       ]\n",
      " [0.3359375  0.3359375  0.5       ]\n",
      " [0.46484375 0.37890625 0.50390625]\n",
      " [0.40625    0.40625    0.5       ]\n",
      " [0.49609375 0.44335938 0.50585938]\n",
      " [0.44921875 0.453125   0.5       ]\n",
      " [0.4765625  0.47753906 0.5       ]\n",
      " [0.49755859 0.48925781 0.50097656]\n",
      " [0.49023438 0.49121094 0.5       ]\n",
      " [0.49609375 0.48828125 0.50341797]\n",
      " [0.49633789 0.49389648 0.5       ]\n",
      " [0.49487305 0.49926758 0.5       ]\n",
      " [0.49731445 0.49609375 0.5       ]\n",
      " [0.49755859 0.49609375 0.5       ]\n",
      " [0.49487305 0.49707031 0.5       ]\n",
      " [0.49682617 0.49682617 0.5       ]\n",
      " [0.5        0.5        0.28125   ]\n",
      " [0.5        0.5        0.3359375 ]\n",
      " [0.5        0.5        0.40234375]\n",
      " [0.5        0.5        0.453125  ]\n",
      " [0.5        0.5        0.4765625 ]\n",
      " [0.5        0.5        0.49121094]\n",
      " [0.5        0.5        0.49682617]\n",
      " [0.50170898 0.5        0.49804688]\n",
      " [0.50170898 0.50219727 0.49853516]\n",
      " [0.50219727 0.50219727 0.4987793 ]\n",
      " [0.50170898 0.50219727 0.49951172]\n",
      " [0.50292969 0.50219727 0.49951172]\n",
      " [0.265625   0.5        0.28125   ]\n",
      " [0.3359375  0.5        0.328125  ]\n",
      " [0.40234375 0.5        0.40625   ]\n",
      " [0.45117188 0.5        0.45117188]\n",
      " [0.49804688 0.5        0.47265625]\n",
      " [0.47460938 0.5        0.4765625 ]\n",
      " [0.49316406 0.50195312 0.48730469]\n",
      " [0.48925781 0.50244141 0.49658203]\n",
      " [0.49072266 0.5        0.49072266]\n",
      " [0.49926758 0.50048828 0.49560547]\n",
      " [0.49487305 0.5        0.49926758]\n",
      " [0.49707031 0.5        0.49707031]\n",
      " [0.49609375 0.50219727 0.49951172]\n",
      " [0.49658203 0.5        0.49853516]\n",
      " [0.5        0.265625   0.28125   ]\n",
      " [0.5        0.3203125  0.328125  ]\n",
      " [0.5        0.3984375  0.40625   ]\n",
      " [0.546875   0.41796875 0.4453125 ]\n",
      " [0.546875   0.453125   0.41796875]\n",
      " [0.546875   0.4375     0.4375    ]\n",
      " [0.546875   0.4921875  0.41796875]\n",
      " [0.546875   0.48046875 0.41796875]\n",
      " [0.55859375 0.46875    0.43359375]\n",
      " [0.5        0.4609375  0.4453125 ]\n",
      " [0.5        0.44921875 0.47460938]\n",
      " [0.51367188 0.47265625 0.46289062]\n",
      " [0.51367188 0.47460938 0.45703125]\n",
      " [0.52734375 0.47070312 0.46679688]\n",
      " [0.51367188 0.46679688 0.46875   ]\n",
      " [0.5        0.47460938 0.47753906]\n",
      " [0.5        0.49023438 0.49072266]\n",
      " [0.50488281 0.49560547 0.48974609]\n",
      " [0.50488281 0.49169922 0.49365234]\n",
      " [0.50488281 0.49511719 0.49365234]\n",
      " [0.50488281 0.49511719 0.49462891]\n",
      " [0.50488281 0.49707031 0.49267578]\n",
      " [0.50488281 0.49853516 0.49316406]\n",
      " [0.5        0.49560547 0.49707031]\n",
      " [0.50317383 0.4987793  0.49902344]\n",
      " [0.265625   0.28125    0.28125   ]\n",
      " [0.328125   0.3359375  0.328125  ]\n",
      " [0.4140625  0.40625    0.40625   ]\n",
      " [0.49414062 0.43945312 0.48632812]\n",
      " [0.45703125 0.4765625  0.46875   ]\n",
      " [0.48632812 0.44921875 0.453125  ]\n",
      " [0.45117188 0.4921875  0.453125  ]\n",
      " [0.44921875 0.453125   0.47851562]\n",
      " [0.46289062 0.484375   0.45507812]\n",
      " [0.484375   0.46484375 0.45703125]\n",
      " [0.47265625 0.47851562 0.46484375]\n",
      " [0.47265625 0.45898438 0.47070312]\n",
      " [0.4765625  0.47265625 0.46289062]\n",
      " [0.4765625  0.47070312 0.46679688]\n",
      " [0.47363281 0.48535156 0.49414062]\n",
      " [0.47363281 0.48339844 0.49707031]\n",
      " [0.48242188 0.48535156 0.48632812]\n",
      " [0.48144531 0.48339844 0.49121094]\n",
      " [0.47753906 0.4921875  0.48632812]\n",
      " [0.48632812 0.47558594 0.47753906]\n",
      " [0.49511719 0.49707031 0.48632812]\n",
      " [0.49755859 0.49560547 0.48828125]\n",
      " [0.49169922 0.48974609 0.49414062]\n",
      " [0.49023438 0.49169922 0.49072266]\n",
      " [0.49560547 0.49853516 0.49951172]\n",
      " [0.49707031 0.49707031 0.49853516]\n",
      " [0.49658203 0.49755859 0.49707031]\n",
      " [0.49902344 0.49560547 0.49755859]\n",
      " [0.49804688 0.49609375 0.49853516]] code_length\n"
     ]
    }
   ],
   "source": [
    "print (ds.index.grid_left_edge)"
   ]
  },
  {
   "cell_type": "markdown",
   "metadata": {},
   "source": [
    "But, you may have to access information about individual grid objects!  Each grid object mediates accessing data from the disk and has a number of attributes that tell you about it.  The index (`ds.index` here) has an attribute `grids` which is all of the grid objects."
   ]
  },
  {
   "cell_type": "code",
   "execution_count": 16,
   "metadata": {},
   "outputs": [
    {
     "data": {
      "text/plain": [
       "EnzoGrid_0002"
      ]
     },
     "execution_count": 16,
     "metadata": {},
     "output_type": "execute_result"
    }
   ],
   "source": [
    "ds.index.grids[1]"
   ]
  },
  {
   "cell_type": "code",
   "execution_count": 17,
   "metadata": {},
   "outputs": [
    {
     "name": "stdout",
     "output_type": "stream",
     "text": [
      "EnzoGrid_0002\n"
     ]
    }
   ],
   "source": [
    "g = ds.index.grids[1]\n",
    "print(g)"
   ]
  },
  {
   "cell_type": "markdown",
   "metadata": {},
   "source": [
    "Grids have dimensions, extents, level, and even a list of Child grids."
   ]
  },
  {
   "cell_type": "code",
   "execution_count": 18,
   "metadata": {},
   "outputs": [
    {
     "data": {
      "text/plain": [
       "array([16, 18, 16], dtype=int32)"
      ]
     },
     "execution_count": 18,
     "metadata": {},
     "output_type": "execute_result"
    }
   ],
   "source": [
    "g.ActiveDimensions"
   ]
  },
  {
   "cell_type": "code",
   "execution_count": 19,
   "metadata": {},
   "outputs": [
    {
     "data": {
      "text/plain": [
       "(YTArray([0.25   , 0.21875, 0.25   ]) code_length,\n",
       " YTArray([0.5, 0.5, 0.5]) code_length)"
      ]
     },
     "execution_count": 19,
     "metadata": {},
     "output_type": "execute_result"
    }
   ],
   "source": [
    "g.LeftEdge, g.RightEdge"
   ]
  },
  {
   "cell_type": "code",
   "execution_count": 20,
   "metadata": {},
   "outputs": [
    {
     "data": {
      "text/plain": [
       "1"
      ]
     },
     "execution_count": 20,
     "metadata": {},
     "output_type": "execute_result"
    }
   ],
   "source": [
    "g.Level"
   ]
  },
  {
   "cell_type": "code",
   "execution_count": 21,
   "metadata": {},
   "outputs": [
    {
     "data": {
      "text/plain": [
       "[EnzoGrid_0145]"
      ]
     },
     "execution_count": 21,
     "metadata": {},
     "output_type": "execute_result"
    }
   ],
   "source": [
    "g.Children"
   ]
  },
  {
   "cell_type": "markdown",
   "metadata": {},
   "source": [
    "## Advanced Grid Inspection\n",
    "\n",
    "If we want to examine grids only at a given level, we can!  Not only that, but we can load data and take a look at various fields.\n",
    "\n",
    "*This section can be skipped!*"
   ]
  },
  {
   "cell_type": "markdown",
   "metadata": {},
   "source": [
    "## Attempting to put an enzo grid into an amr specification \n",
    "- not sure if this is the right application for an enzo gird"
   ]
  },
  {
   "cell_type": "code",
   "execution_count": 22,
   "metadata": {},
   "outputs": [],
   "source": [
    "gs = ds.index.select_grids(ds.index.max_level)"
   ]
  },
  {
   "cell_type": "code",
   "execution_count": 23,
   "metadata": {},
   "outputs": [
    {
     "name": "stdout",
     "output_type": "stream",
     "text": [
      "EnzoGrid_0028\n",
      "EnzoGrid_0023\n",
      "[4096 4096 4096]\n"
     ]
    }
   ],
   "source": [
    "g2 = gs[0]\n",
    "print (g2)\n",
    "print (g2.Parent)\n",
    "print (g2.get_global_startindex())"
   ]
  },
  {
   "cell_type": "code",
   "execution_count": 24,
   "metadata": {},
   "outputs": [
    {
     "data": {
      "text/plain": [
       "YTArray([[1.0136369e-25, 3.4564638e-25, 6.4192590e-25, ...,\n",
       "          5.9669651e-25, 5.1001470e-25, 4.2170473e-25],\n",
       "         [1.7664165e-25, 4.3917114e-25, 7.1012795e-25, ...,\n",
       "          4.8336836e-25, 2.3386585e-25, 1.5441057e-25],\n",
       "         [2.0398285e-25, 5.0713038e-25, 8.9340174e-25, ...,\n",
       "          1.5818960e-25, 6.5505691e-26, 4.2683066e-26],\n",
       "         ...,\n",
       "         [4.7057491e-25, 2.8565834e-25, 1.6021799e-25, ...,\n",
       "          9.8956538e-27, 1.0460956e-26, 1.1069824e-26],\n",
       "         [2.1737538e-25, 1.2614471e-25, 8.5885592e-26, ...,\n",
       "          9.5149775e-27, 9.9683854e-27, 1.0507010e-26],\n",
       "         [9.0090510e-26, 6.8866435e-26, 6.3422531e-26, ...,\n",
       "          9.1754346e-27, 9.5285530e-27, 1.0011084e-26]], dtype=float32) g/cm**3"
      ]
     },
     "execution_count": 24,
     "metadata": {},
     "output_type": "execute_result"
    }
   ],
   "source": [
    "g2[\"density\"][:,:,0]"
   ]
  },
  {
   "cell_type": "code",
   "execution_count": 25,
   "metadata": {},
   "outputs": [
    {
     "name": "stdout",
     "output_type": "stream",
     "text": [
      "33592\n",
      "33592\n"
     ]
    }
   ],
   "source": [
    "print ((g2.Parent.child_mask == 0).sum() * 8)\n",
    "print (g2.ActiveDimensions.prod())"
   ]
  },
  {
   "cell_type": "code",
   "execution_count": 26,
   "metadata": {},
   "outputs": [
    {
     "name": "stdout",
     "output_type": "stream",
     "text": [
      "('all', 'creation_time') 0.0 s 0.0 s\n",
      "('all', 'dynamical_time') 0.0 s 0.0 s\n",
      "('all', 'metallicity_fraction') 0.0 code_metallicity 0.0 code_metallicity\n",
      "('all', 'particle_index') 495510.0 dimensionless 999626.0 dimensionless\n",
      "('all', 'particle_mass') 4.2555414545269184e+38 g 4.2555414545269184e+38 g\n",
      "('all', 'particle_position_x') 0.41541787345992065 code_length 0.4978604680250108 code_length\n",
      "('all', 'particle_position_y') 0.262784210985574 code_length 0.4940284595802798 code_length\n",
      "('all', 'particle_position_z') 0.262642536622731 code_length 0.4951038390260019 code_length\n",
      "('all', 'particle_type') 1.0 dimensionless 1.0 dimensionless\n",
      "('all', 'particle_velocity_x') -3771602.328267241 cm/s 6406800.047442201 cm/s\n",
      "('all', 'particle_velocity_y') -9214187.767832078 cm/s 1247333.940700183 cm/s\n",
      "('all', 'particle_velocity_z') -9018941.986469014 cm/s -186059.66175555275 cm/s\n",
      "('enzo', 'Average_creation_time') 0.0 dimensionless 0.0 dimensionless\n",
      "('enzo', 'Bx') 0.0 code_magnetic 0.0 code_magnetic\n",
      "('enzo', 'By') 0.0 code_magnetic 0.0 code_magnetic\n",
      "('enzo', 'Bz') 0.012791603803634644 code_magnetic 0.012831846252083778 code_magnetic\n",
      "('enzo', 'Cooling_Time') 39200162316288.0 s 1.1962319273319203e+19 s\n",
      "('enzo', 'Dark_Matter_Density') 0.0 code_mass/code_length**3 1.0860615968704224 code_mass/code_length**3\n",
      "('enzo', 'Density') 0.15646304190158844 code_mass/code_length**3 1204.91357421875 code_mass/code_length**3\n",
      "('enzo', 'Electron_Density') 0.1374669373035431 code_mass/code_length**3 799.52587890625 code_mass/code_length**3\n",
      "('enzo', 'Forming_Stellar_Mass_Density') 1.000000013351432e-10 dimensionless 1.000000013351432e-10 dimensionless\n",
      "('enzo', 'Galaxy1Colour') 0.15646304190158844 dimensionless 1724.4417724609375 dimensionless\n",
      "('enzo', 'Galaxy2Colour') 0.15646304190158844 dimensionless 1724.4417724609375 dimensionless\n",
      "('enzo', 'HII_Density') 0.11890292912721634 code_mass/code_length**3 735.70068359375 code_mass/code_length**3\n",
      "('enzo', 'HI_Density') 1.2184946740489977e-07 code_mass/code_length**3 178.8524627685547 code_mass/code_length**3\n",
      "('enzo', 'HeIII_Density') 0.03670766204595566 code_mass/code_length**3 29.421302795410156 code_mass/code_length**3\n",
      "('enzo', 'HeII_Density') 0.000840668857563287 code_mass/code_length**3 196.4578857421875 code_mass/code_length**3\n",
      "('enzo', 'HeI_Density') 3.822050675950095e-09 code_mass/code_length**3 62.92707824707031 code_mass/code_length**3\n",
      "('enzo', 'MBHColour') 2.322960573897248e-11 dimensionless 6.065337676552929e-10 dimensionless\n",
      "('enzo', 'Metal_Density') 1.1651282875391189e-05 code_mass/code_length**3 1.5543633699417114 code_mass/code_length**3\n",
      "('enzo', 'PhiField') 0.0 dimensionless 0.0 dimensionless\n",
      "('enzo', 'Phi_pField') 0.0 dimensionless 0.0 dimensionless\n",
      "('enzo', 'SFR_Density') 1.000000013351432e-10 dimensionless 1.000000013351432e-10 dimensionless\n",
      "('enzo', 'Star_Particle_Density') 1.000000013351432e-10 dimensionless 1.000000013351432e-10 dimensionless\n",
      "('enzo', 'Temperature') 5423.7490234375 K 13363.3720703125 K\n",
      "('enzo', 'TotalEnergy') 0.6497657299041748 code_velocity**2 1.4317575693130493 code_velocity**2\n",
      "('enzo', 'gammaHI') 0.0 dimensionless 0.0 dimensionless\n",
      "('enzo', 'kphHI') 0.0 dimensionless 0.0 dimensionless\n",
      "('enzo', 'kphHeI') 0.0 dimensionless 0.0 dimensionless\n",
      "('enzo', 'kphHeII') 0.0 dimensionless 0.0 dimensionless\n",
      "('enzo', 'x-velocity') -0.8689197897911072 code_velocity 10.238566398620605 code_velocity\n",
      "('enzo', 'y-velocity') -1.5469202995300293 code_velocity 7.307499885559082 code_velocity\n",
      "('enzo', 'z-velocity') -1.047468662261963 code_velocity 9.704765319824219 code_velocity\n",
      "('io', 'creation_time') 0.0 code_time 0.0 code_time\n",
      "('io', 'dynamical_time') 0.0 code_time 0.0 code_time\n",
      "('io', 'metallicity_fraction') 0.0 code_metallicity 0.0 code_metallicity\n",
      "('io', 'particle_index') 495510.0 dimensionless 999626.0 dimensionless\n",
      "('io', 'particle_mass') 5.244230578682618e-06 code_mass 5.244230578682618e-06 code_mass\n",
      "('io', 'particle_position_x') 0.41541787345992065 code_length 0.4978604680250108 code_length\n",
      "('io', 'particle_position_y') 0.262784210985574 code_length 0.4940284595802798 code_length\n",
      "('io', 'particle_position_z') 0.262642536622731 code_length 0.4951038390260019 code_length\n",
      "('io', 'particle_type') 1.0 dimensionless 1.0 dimensionless\n",
      "('io', 'particle_velocity_x') -2.846985340118408 code_velocity 4.836158275604248 code_velocity\n",
      "('io', 'particle_velocity_y') -6.955308437347412 code_velocity 0.941547155380249 code_velocity\n",
      "('io', 'particle_velocity_z') -6.80792760848999 code_velocity -0.1404467076063156 code_velocity\n"
     ]
    }
   ],
   "source": [
    "for f in ds.field_list:\n",
    "    fv = g[f]\n",
    "    if fv.size == 0: continue\n",
    "    print (f, fv.min(), fv.max())"
   ]
  },
  {
   "cell_type": "code",
   "execution_count": 43,
   "metadata": {},
   "outputs": [
    {
     "data": {
      "text/plain": [
       "yt.frontends.enzo.data_structures.EnzoGrid"
      ]
     },
     "execution_count": 43,
     "metadata": {},
     "output_type": "execute_result"
    }
   ],
   "source": [
    "type(g2)"
   ]
  },
  {
   "cell_type": "code",
   "execution_count": 69,
   "metadata": {},
   "outputs": [],
   "source": [
    "# the arm specification wants a tuple as input, and not our defined types such as UnitfulArray\n",
    "\n",
    "enzo_schema = analysis_schema.AMRGridDataSpecification(left_edge= tuple(g2.LeftEdge), \n",
    "                                                       right_edge= tuple(g2.RightEdge),\n",
    "                                                       dimensions= tuple([1.0, 1.0, 1.0]), \n",
    "                                                      level = g2.Level, field_data=g2)"
   ]
  },
  {
   "cell_type": "code",
   "execution_count": 70,
   "metadata": {},
   "outputs": [
    {
     "data": {
      "text/plain": [
       "<AMRGridDataSpecification left_edge=(0.5, 0.5, 0.5) right_edge=(0.504638671875, 0.504150390625, 0.503173828125) dimensions=(1, 1, 1) level=8 field_data={('gas', 'density'): YTArray([[[1.01363690e-25, 4.92932516e-24, 6.12061044e-24,…>"
      ]
     },
     "execution_count": 70,
     "metadata": {},
     "output_type": "execute_result"
    }
   ],
   "source": [
    "enzo_schema"
   ]
  },
  {
   "cell_type": "code",
   "execution_count": 71,
   "metadata": {},
   "outputs": [
    {
     "ename": "TypeError",
     "evalue": "keys must be str, int, float, bool or None, not tuple",
     "output_type": "error",
     "traceback": [
      "\u001b[0;31m---------------------------------------------------------------------------\u001b[0m",
      "\u001b[0;31mTypeError\u001b[0m                                 Traceback (most recent call last)",
      "\u001b[0;32m<ipython-input-71-430a8979a767>\u001b[0m in \u001b[0;36m<module>\u001b[0;34m\u001b[0m\n\u001b[0;32m----> 1\u001b[0;31m \u001b[0menzo_schema\u001b[0m\u001b[0;34m.\u001b[0m\u001b[0mjson\u001b[0m\u001b[0;34m(\u001b[0m\u001b[0;34m)\u001b[0m\u001b[0;34m\u001b[0m\u001b[0;34m\u001b[0m\u001b[0m\n\u001b[0m",
      "\u001b[0;32m~/anaconda3/lib/python3.7/site-packages/pydantic/main.py\u001b[0m in \u001b[0;36mjson\u001b[0;34m(self, include, exclude, by_alias, skip_defaults, encoder, **dumps_kwargs)\u001b[0m\n\u001b[1;32m    321\u001b[0m             \u001b[0mself\u001b[0m\u001b[0;34m.\u001b[0m\u001b[0mdict\u001b[0m\u001b[0;34m(\u001b[0m\u001b[0minclude\u001b[0m\u001b[0;34m=\u001b[0m\u001b[0minclude\u001b[0m\u001b[0;34m,\u001b[0m \u001b[0mexclude\u001b[0m\u001b[0;34m=\u001b[0m\u001b[0mexclude\u001b[0m\u001b[0;34m,\u001b[0m \u001b[0mby_alias\u001b[0m\u001b[0;34m=\u001b[0m\u001b[0mby_alias\u001b[0m\u001b[0;34m,\u001b[0m \u001b[0mskip_defaults\u001b[0m\u001b[0;34m=\u001b[0m\u001b[0mskip_defaults\u001b[0m\u001b[0;34m)\u001b[0m\u001b[0;34m,\u001b[0m\u001b[0;34m\u001b[0m\u001b[0;34m\u001b[0m\u001b[0m\n\u001b[1;32m    322\u001b[0m             \u001b[0mdefault\u001b[0m\u001b[0;34m=\u001b[0m\u001b[0mencoder\u001b[0m\u001b[0;34m,\u001b[0m\u001b[0;34m\u001b[0m\u001b[0;34m\u001b[0m\u001b[0m\n\u001b[0;32m--> 323\u001b[0;31m             \u001b[0;34m**\u001b[0m\u001b[0mdumps_kwargs\u001b[0m\u001b[0;34m,\u001b[0m\u001b[0;34m\u001b[0m\u001b[0;34m\u001b[0m\u001b[0m\n\u001b[0m\u001b[1;32m    324\u001b[0m         )\n\u001b[1;32m    325\u001b[0m \u001b[0;34m\u001b[0m\u001b[0m\n",
      "\u001b[0;32m~/anaconda3/lib/python3.7/json/__init__.py\u001b[0m in \u001b[0;36mdumps\u001b[0;34m(obj, skipkeys, ensure_ascii, check_circular, allow_nan, cls, indent, separators, default, sort_keys, **kw)\u001b[0m\n\u001b[1;32m    236\u001b[0m         \u001b[0mcheck_circular\u001b[0m\u001b[0;34m=\u001b[0m\u001b[0mcheck_circular\u001b[0m\u001b[0;34m,\u001b[0m \u001b[0mallow_nan\u001b[0m\u001b[0;34m=\u001b[0m\u001b[0mallow_nan\u001b[0m\u001b[0;34m,\u001b[0m \u001b[0mindent\u001b[0m\u001b[0;34m=\u001b[0m\u001b[0mindent\u001b[0m\u001b[0;34m,\u001b[0m\u001b[0;34m\u001b[0m\u001b[0;34m\u001b[0m\u001b[0m\n\u001b[1;32m    237\u001b[0m         \u001b[0mseparators\u001b[0m\u001b[0;34m=\u001b[0m\u001b[0mseparators\u001b[0m\u001b[0;34m,\u001b[0m \u001b[0mdefault\u001b[0m\u001b[0;34m=\u001b[0m\u001b[0mdefault\u001b[0m\u001b[0;34m,\u001b[0m \u001b[0msort_keys\u001b[0m\u001b[0;34m=\u001b[0m\u001b[0msort_keys\u001b[0m\u001b[0;34m,\u001b[0m\u001b[0;34m\u001b[0m\u001b[0;34m\u001b[0m\u001b[0m\n\u001b[0;32m--> 238\u001b[0;31m         **kw).encode(obj)\n\u001b[0m\u001b[1;32m    239\u001b[0m \u001b[0;34m\u001b[0m\u001b[0m\n\u001b[1;32m    240\u001b[0m \u001b[0;34m\u001b[0m\u001b[0m\n",
      "\u001b[0;32m~/anaconda3/lib/python3.7/json/encoder.py\u001b[0m in \u001b[0;36mencode\u001b[0;34m(self, o)\u001b[0m\n\u001b[1;32m    197\u001b[0m         \u001b[0;31m# exceptions aren't as detailed.  The list call should be roughly\u001b[0m\u001b[0;34m\u001b[0m\u001b[0;34m\u001b[0m\u001b[0;34m\u001b[0m\u001b[0m\n\u001b[1;32m    198\u001b[0m         \u001b[0;31m# equivalent to the PySequence_Fast that ''.join() would do.\u001b[0m\u001b[0;34m\u001b[0m\u001b[0;34m\u001b[0m\u001b[0;34m\u001b[0m\u001b[0m\n\u001b[0;32m--> 199\u001b[0;31m         \u001b[0mchunks\u001b[0m \u001b[0;34m=\u001b[0m \u001b[0mself\u001b[0m\u001b[0;34m.\u001b[0m\u001b[0miterencode\u001b[0m\u001b[0;34m(\u001b[0m\u001b[0mo\u001b[0m\u001b[0;34m,\u001b[0m \u001b[0m_one_shot\u001b[0m\u001b[0;34m=\u001b[0m\u001b[0;32mTrue\u001b[0m\u001b[0;34m)\u001b[0m\u001b[0;34m\u001b[0m\u001b[0;34m\u001b[0m\u001b[0m\n\u001b[0m\u001b[1;32m    200\u001b[0m         \u001b[0;32mif\u001b[0m \u001b[0;32mnot\u001b[0m \u001b[0misinstance\u001b[0m\u001b[0;34m(\u001b[0m\u001b[0mchunks\u001b[0m\u001b[0;34m,\u001b[0m \u001b[0;34m(\u001b[0m\u001b[0mlist\u001b[0m\u001b[0;34m,\u001b[0m \u001b[0mtuple\u001b[0m\u001b[0;34m)\u001b[0m\u001b[0;34m)\u001b[0m\u001b[0;34m:\u001b[0m\u001b[0;34m\u001b[0m\u001b[0;34m\u001b[0m\u001b[0m\n\u001b[1;32m    201\u001b[0m             \u001b[0mchunks\u001b[0m \u001b[0;34m=\u001b[0m \u001b[0mlist\u001b[0m\u001b[0;34m(\u001b[0m\u001b[0mchunks\u001b[0m\u001b[0;34m)\u001b[0m\u001b[0;34m\u001b[0m\u001b[0;34m\u001b[0m\u001b[0m\n",
      "\u001b[0;32m~/anaconda3/lib/python3.7/json/encoder.py\u001b[0m in \u001b[0;36miterencode\u001b[0;34m(self, o, _one_shot)\u001b[0m\n\u001b[1;32m    255\u001b[0m                 \u001b[0mself\u001b[0m\u001b[0;34m.\u001b[0m\u001b[0mkey_separator\u001b[0m\u001b[0;34m,\u001b[0m \u001b[0mself\u001b[0m\u001b[0;34m.\u001b[0m\u001b[0mitem_separator\u001b[0m\u001b[0;34m,\u001b[0m \u001b[0mself\u001b[0m\u001b[0;34m.\u001b[0m\u001b[0msort_keys\u001b[0m\u001b[0;34m,\u001b[0m\u001b[0;34m\u001b[0m\u001b[0;34m\u001b[0m\u001b[0m\n\u001b[1;32m    256\u001b[0m                 self.skipkeys, _one_shot)\n\u001b[0;32m--> 257\u001b[0;31m         \u001b[0;32mreturn\u001b[0m \u001b[0m_iterencode\u001b[0m\u001b[0;34m(\u001b[0m\u001b[0mo\u001b[0m\u001b[0;34m,\u001b[0m \u001b[0;36m0\u001b[0m\u001b[0;34m)\u001b[0m\u001b[0;34m\u001b[0m\u001b[0;34m\u001b[0m\u001b[0m\n\u001b[0m\u001b[1;32m    258\u001b[0m \u001b[0;34m\u001b[0m\u001b[0m\n\u001b[1;32m    259\u001b[0m def _make_iterencode(markers, _default, _encoder, _indent, _floatstr,\n",
      "\u001b[0;31mTypeError\u001b[0m: keys must be str, int, float, bool or None, not tuple"
     ]
    }
   ],
   "source": [
    "enzo_schema.json()"
   ]
  },
  {
   "cell_type": "markdown",
   "metadata": {},
   "source": [
    "# Examining Data in Regions\n",
    "\n",
    "yt provides data object selectors.  In subsequent notebooks we'll examine these in more detail, but we can select a sphere of data and perform a number of operations on it.  yt makes it easy to operate on fluid fields in an object in *bulk*, but you can also examine individual field values.\n",
    "\n",
    "This creates a sphere selector positioned at the most dense point in the simulation that has a radius of 10 kpc."
   ]
  },
  {
   "cell_type": "markdown",
   "metadata": {},
   "source": [
    "## Recreated what we did in our call "
   ]
  },
  {
   "cell_type": "code",
   "execution_count": 54,
   "metadata": {},
   "outputs": [
    {
     "name": "stderr",
     "output_type": "stream",
     "text": [
      "yt : [INFO     ] 2020-05-29 14:32:13,523 Max Value is 7.73427e-24 at 0.5040893554687501 0.4998168945312501 0.5001831054687500\n"
     ]
    }
   ],
   "source": [
    "sp = ds.sphere(\"max\", (10, 'kpc'))"
   ]
  },
  {
   "cell_type": "code",
   "execution_count": 55,
   "metadata": {},
   "outputs": [
    {
     "data": {
      "text/plain": [
       "YTSphere (galaxy0030): , center=[1.55561975e+24 1.54243494e+24 1.54356506e+24] cm, radius=3.0856775809623245e+22 cm"
      ]
     },
     "execution_count": 55,
     "metadata": {},
     "output_type": "execute_result"
    }
   ],
   "source": [
    "sp"
   ]
  },
  {
   "cell_type": "markdown",
   "metadata": {},
   "source": [
    "We can calculate a bunch of bulk quantities.  Here's that list, but there's a list in the docs, too!"
   ]
  },
  {
   "cell_type": "code",
   "execution_count": 56,
   "metadata": {},
   "outputs": [
    {
     "data": {
      "text/plain": [
       "['WeightedAverageQuantity',\n",
       " 'TotalQuantity',\n",
       " 'TotalMass',\n",
       " 'CenterOfMass',\n",
       " 'BulkVelocity',\n",
       " 'WeightedVariance',\n",
       " 'AngularMomentumVector',\n",
       " 'Extrema',\n",
       " 'SampleAtMaxFieldValues',\n",
       " 'MaxLocation',\n",
       " 'SampleAtMinFieldValues',\n",
       " 'MinLocation',\n",
       " 'SpinParameter']"
      ]
     },
     "execution_count": 56,
     "metadata": {},
     "output_type": "execute_result"
    }
   ],
   "source": [
    "list(sp.quantities.keys())"
   ]
  },
  {
   "cell_type": "markdown",
   "metadata": {},
   "source": [
    "Let's look at the total mass.  This is how you call a given quantity.  yt calls these \"Derived Quantities\".  We'll talk about a few in a later notebook."
   ]
  },
  {
   "cell_type": "code",
   "execution_count": 57,
   "metadata": {},
   "outputs": [
    {
     "data": {
      "text/plain": [
       "YTArray([3.27209035e+42, 8.58102338e+43]) g"
      ]
     },
     "execution_count": 57,
     "metadata": {},
     "output_type": "execute_result"
    }
   ],
   "source": [
    "sp.quantities.total_mass()"
   ]
  },
  {
   "cell_type": "code",
   "execution_count": 61,
   "metadata": {},
   "outputs": [],
   "source": [
    "schema_sphere = analysis_schema.Sphere(center= analysis_schema.UnitfulCoordinate(unit=\"unitary\",\n",
    "                                                                                 values =[0.5, 0.5, 0.5]), \n",
    "                                       radius=analysis_schema.UnitfulValue(unit=\"kpc\", value=50))"
   ]
  },
  {
   "cell_type": "code",
   "execution_count": 62,
   "metadata": {},
   "outputs": [
    {
     "data": {
      "text/plain": [
       "<Sphere center=<UnitfulCoordinate values=[0.5, 0.5, 0.5] unit='unitary'> radius=<UnitfulValue value=50.0 unit='kpc'>>"
      ]
     },
     "execution_count": 62,
     "metadata": {},
     "output_type": "execute_result"
    }
   ],
   "source": [
    "schema_sphere"
   ]
  },
  {
   "cell_type": "code",
   "execution_count": 65,
   "metadata": {},
   "outputs": [
    {
     "data": {
      "text/plain": [
       "'{\"center\": {\"values\": [0.5, 0.5, 0.5], \"unit\": \"unitary\"}, \"radius\": {\"value\": 50.0, \"unit\": \"kpc\"}}'"
      ]
     },
     "execution_count": 65,
     "metadata": {},
     "output_type": "execute_result"
    }
   ],
   "source": [
    "schema_sphere.json()"
   ]
  },
  {
   "cell_type": "code",
   "execution_count": 66,
   "metadata": {},
   "outputs": [
    {
     "data": {
      "text/plain": [
       "'{\"title\": \"Sphere\", \"type\": \"object\", \"properties\": {\"center\": {\"$ref\": \"#/definitions/UnitfulCoordinate\"}, \"radius\": {\"$ref\": \"#/definitions/UnitfulValue\"}}, \"required\": [\"center\", \"radius\"], \"definitions\": {\"UnitfulCoordinate\": {\"title\": \"UnitfulCoordinate\", \"type\": \"object\", \"properties\": {\"values\": {\"title\": \"Values\", \"default\": [0.5, 0.5, 0.5], \"minItems\": 3, \"maxItems\": 3, \"type\": \"array\", \"items\": {\"type\": \"number\"}}, \"unit\": {\"title\": \"Unit\", \"default\": \"unitary\", \"type\": \"string\"}}}, \"UnitfulValue\": {\"title\": \"UnitfulValue\", \"type\": \"object\", \"properties\": {\"value\": {\"title\": \"Value\", \"type\": \"number\"}, \"unit\": {\"title\": \"Unit\", \"default\": \"unitary\", \"type\": \"string\"}}, \"required\": [\"value\"]}}}'"
      ]
     },
     "execution_count": 66,
     "metadata": {},
     "output_type": "execute_result"
    }
   ],
   "source": [
    "schema_sphere.schema_json()"
   ]
  },
  {
   "cell_type": "code",
   "execution_count": null,
   "metadata": {},
   "outputs": [],
   "source": []
  }
 ],
 "metadata": {
  "kernelspec": {
   "display_name": "Python 3",
   "language": "python",
   "name": "python3"
  },
  "language_info": {
   "codemirror_mode": {
    "name": "ipython",
    "version": 3
   },
   "file_extension": ".py",
   "mimetype": "text/x-python",
   "name": "python",
   "nbconvert_exporter": "python",
   "pygments_lexer": "ipython3",
   "version": "3.7.3"
  }
 },
 "nbformat": 4,
 "nbformat_minor": 1
}
