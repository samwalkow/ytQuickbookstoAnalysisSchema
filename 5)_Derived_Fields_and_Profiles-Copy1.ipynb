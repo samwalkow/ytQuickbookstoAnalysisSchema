{
 "cells": [
  {
   "cell_type": "markdown",
   "metadata": {},
   "source": [
    "# Derived Fields and Profiles\n",
    "\n",
    "One of the most powerful features in yt is the ability to create derived fields that act and look exactly like fields that exist on disk.  This means that they will be generated on demand and can be used anywhere a field that exists on disk would be used.  Additionally, you can create them by just writing python functions."
   ]
  },
  {
   "cell_type": "code",
   "execution_count": 12,
   "metadata": {},
   "outputs": [],
   "source": [
    "%matplotlib inline\n",
    "import yt\n",
    "import numpy as np\n",
    "from yt import derived_field\n",
    "from matplotlib import pylab\n",
    "import analysis_schema"
   ]
  },
  {
   "cell_type": "markdown",
   "metadata": {},
   "source": [
    "## Derived Fields\n",
    "\n",
    "This is an example of the simplest possible way to create a derived field.  All derived fields are defined by a function and some metadata; that metadata can include units, LaTeX-friendly names, conversion factors, and so on.  Fields can be defined in the way in the next cell.  What this does is create a function which accepts two arguments and then provide the units for that field.  In this case, our field is `dinosaurs` and our units are `K*cm/s`.  The function itself can access any fields that are in the simulation, and it does so by requesting data from the object called `data`."
   ]
  },
  {
   "cell_type": "code",
   "execution_count": 2,
   "metadata": {},
   "outputs": [
    {
     "name": "stderr",
     "output_type": "stream",
     "text": [
      "/Users/swalkow2/anaconda3/lib/python3.7/site-packages/yt/fields/local_fields.py:46: UserWarning: Because 'sampling_type' not specified, yt will assume a cell 'sampling_type'\n",
      "  warnings.warn(\"Because 'sampling_type' not specified, yt will \"\n"
     ]
    }
   ],
   "source": [
    "@derived_field(name = \"dinosaurs\", units = \"K * cm/s\")\n",
    "def _dinos(field, data):\n",
    "    return data[\"temperature\"] * data[\"velocity_magnitude\"]"
   ]
  },
  {
   "cell_type": "markdown",
   "metadata": {},
   "source": [
    "One important thing to note is that derived fields must be defined *before* any datasets are loaded.  Let's load up our data and take a look at some quantities."
   ]
  },
  {
   "cell_type": "code",
   "execution_count": 3,
   "metadata": {},
   "outputs": [
    {
     "name": "stderr",
     "output_type": "stream",
     "text": [
      "yt : [INFO     ] 2020-06-01 10:19:27,480 Parameters: current_time              = 0.0060000200028298\n",
      "yt : [INFO     ] 2020-06-01 10:19:27,481 Parameters: domain_dimensions         = [32 32 32]\n",
      "yt : [INFO     ] 2020-06-01 10:19:27,482 Parameters: domain_left_edge          = [0. 0. 0.]\n",
      "yt : [INFO     ] 2020-06-01 10:19:27,485 Parameters: domain_right_edge         = [1. 1. 1.]\n",
      "yt : [INFO     ] 2020-06-01 10:19:27,488 Parameters: cosmological_simulation   = 0.0\n"
     ]
    },
    {
     "name": "stdout",
     "output_type": "stream",
     "text": [
      "['WeightedAverageQuantity', 'TotalQuantity', 'TotalMass', 'CenterOfMass', 'BulkVelocity', 'WeightedVariance', 'AngularMomentumVector', 'Extrema', 'SampleAtMaxFieldValues', 'MaxLocation', 'SampleAtMinFieldValues', 'MinLocation', 'SpinParameter']\n"
     ]
    }
   ],
   "source": [
    "ds = yt.load(\"IsolatedGalaxy/galaxy0030/galaxy0030\")\n",
    "dd = ds.all_data()\n",
    "print (list(dd.quantities.keys()))"
   ]
  },
  {
   "cell_type": "markdown",
   "metadata": {},
   "source": [
    "One interesting question is, what are the minimum and maximum values of dinosaur production rates in our isolated galaxy?  We can do that by examining the `extrema` quantity -- the exact same way that we would for density, temperature, and so on."
   ]
  },
  {
   "cell_type": "code",
   "execution_count": 4,
   "metadata": {},
   "outputs": [
    {
     "name": "stderr",
     "output_type": "stream",
     "text": [
      "Parsing Hierarchy : 100%|██████████| 173/173 [00:00<00:00, 4689.61it/s]\n",
      "yt : [INFO     ] 2020-06-01 10:19:31,315 Gathering a field list (this may take a moment.)\n"
     ]
    },
    {
     "name": "stdout",
     "output_type": "stream",
     "text": [
      "[3.31419530e+04 1.18723107e+15] K*cm/s\n"
     ]
    }
   ],
   "source": [
    "print (dd.quantities.extrema(\"dinosaurs\"))"
   ]
  },
  {
   "cell_type": "markdown",
   "metadata": {},
   "source": [
    "We can do the same for the average quantities as well."
   ]
  },
  {
   "cell_type": "code",
   "execution_count": 5,
   "metadata": {},
   "outputs": [
    {
     "name": "stdout",
     "output_type": "stream",
     "text": [
      "16822848849458.07 K*cm/s\n"
     ]
    }
   ],
   "source": [
    "print (dd.quantities.weighted_average_quantity(\"dinosaurs\", weight=\"temperature\"))"
   ]
  },
  {
   "cell_type": "markdown",
   "metadata": {},
   "source": [
    "## A Few Other Quantities\n",
    "\n",
    "We can ask other quantities of our data, as well.  For instance, this sequence of operations will find the most dense point, center a sphere on it, calculate the bulk velocity of that sphere, calculate the baryonic angular momentum vector, and then the density extrema.  All of this is done in a memory conservative way: if you have an absolutely enormous dataset, yt will split that dataset into pieces, apply intermediate reductions and then a final reduction to calculate your quantity."
   ]
  },
  {
   "cell_type": "markdown",
   "metadata": {},
   "source": [
    "## <font color='red'> converting another sphere </font>"
   ]
  },
  {
   "cell_type": "code",
   "execution_count": 6,
   "metadata": {
    "scrolled": true
   },
   "outputs": [
    {
     "name": "stderr",
     "output_type": "stream",
     "text": [
      "yt : [INFO     ] 2020-06-01 10:19:39,998 Max Value is 7.73427e-24 at 0.5040893554687501 0.4998168945312501 0.5001831054687500\n"
     ]
    },
    {
     "name": "stdout",
     "output_type": "stream",
     "text": [
      "[-892739.08777744 1107086.20621902  620738.20523762] cm/s\n",
      "[-5.01415153e+25  7.51695813e+26  4.16988689e+28] cm**2/s\n",
      "2.214782381237793e-28 g/cm**3 7.73426503924e-24 g/cm**3\n"
     ]
    }
   ],
   "source": [
    "sp = ds.sphere(\"max\", (10.0, 'kpc'))\n",
    "bv = sp.quantities.bulk_velocity()\n",
    "L = sp.quantities.angular_momentum_vector()\n",
    "rho_min, rho_max = sp.quantities.extrema(\"density\")\n",
    "print (bv)\n",
    "print (L)\n",
    "print (rho_min, rho_max)"
   ]
  },
  {
   "cell_type": "code",
   "execution_count": 14,
   "metadata": {},
   "outputs": [],
   "source": [
    "sphere_schema = analysis_schema.Sphere(center= analysis_schema.UnitfulCoordinate(unit=\"unitary\",\n",
    "                                                                                 values =[0.5, 0.5, 0.5]), \n",
    "                                       radius=analysis_schema.UnitfulValue(unit=\"kpc\", value=10.0))"
   ]
  },
  {
   "cell_type": "code",
   "execution_count": 19,
   "metadata": {},
   "outputs": [
    {
     "data": {
      "text/plain": [
       "'{\"center\": {\"values\": [0.5, 0.5, 0.5], \"unit\": \"unitary\"}, \"radius\": {\"value\": 10.0, \"unit\": \"kpc\"}}'"
      ]
     },
     "execution_count": 19,
     "metadata": {},
     "output_type": "execute_result"
    }
   ],
   "source": [
    "sphere_schema.json()"
   ]
  },
  {
   "cell_type": "code",
   "execution_count": 18,
   "metadata": {},
   "outputs": [
    {
     "data": {
      "text/plain": [
       "'{\"title\": \"Sphere\", \"type\": \"object\", \"properties\": {\"center\": {\"$ref\": \"#/definitions/UnitfulCoordinate\"}, \"radius\": {\"$ref\": \"#/definitions/UnitfulValue\"}}, \"required\": [\"center\", \"radius\"], \"definitions\": {\"UnitfulCoordinate\": {\"title\": \"UnitfulCoordinate\", \"type\": \"object\", \"properties\": {\"values\": {\"title\": \"Values\", \"default\": [0.5, 0.5, 0.5], \"minItems\": 3, \"maxItems\": 3, \"type\": \"array\", \"items\": {\"type\": \"number\"}}, \"unit\": {\"title\": \"Unit\", \"default\": \"unitary\", \"type\": \"string\"}}}, \"UnitfulValue\": {\"title\": \"UnitfulValue\", \"type\": \"object\", \"properties\": {\"value\": {\"title\": \"Value\", \"type\": \"number\"}, \"unit\": {\"title\": \"Unit\", \"default\": \"unitary\", \"type\": \"string\"}}, \"required\": [\"value\"]}}}'"
      ]
     },
     "execution_count": 18,
     "metadata": {},
     "output_type": "execute_result"
    }
   ],
   "source": [
    "sphere_schema.schema_json()"
   ]
  },
  {
   "cell_type": "markdown",
   "metadata": {},
   "source": [
    "## Profiles\n",
    "\n",
    "yt provides the ability to bin in 1, 2 and 3 dimensions.  This means discretizing in one or more dimensions of phase space (density, temperature, etc) and then calculating either the total value of a field in each bin or the average value of a field in each bin.\n",
    "\n",
    "We do this using the objects `Profile1D`, `Profile2D`, and `Profile3D`.  The first two are the most common since they are the easiest to visualize.\n",
    "\n",
    "This first set of commands manually creates a profile object the sphere we created earlier, binned in 32 bins according to density between `rho_min` and `rho_max`, and then takes the density-weighted average of the fields `temperature` and (previously-defined) `dinosaurs`.  We then plot it in a loglog plot."
   ]
  },
  {
   "cell_type": "code",
   "execution_count": 7,
   "metadata": {},
   "outputs": [
    {
     "data": {
      "text/plain": [
       "Text(0, 0.5, 'Temperature $(K)$')"
      ]
     },
     "execution_count": 7,
     "metadata": {},
     "output_type": "execute_result"
    },
    {
     "data": {
      "image/png": "[encoded data removed]",
      "text/plain": [
       "<Figure size 432x288 with 1 Axes>"
      ]
     },
     "metadata": {
      "needs_background": "light"
     },
     "output_type": "display_data"
    }
   ],
   "source": [
    "prof = yt.Profile1D(sp, \"density\", 32, rho_min, rho_max, True, weight_field=\"cell_mass\")\n",
    "prof.add_fields([\"temperature\",\"dinosaurs\"])\n",
    "pylab.loglog(np.array(prof.x), np.array(prof[\"temperature\"]), \"-x\")\n",
    "pylab.xlabel('Density $(g/cm^3)$')\n",
    "pylab.ylabel('Temperature $(K)$')"
   ]
  },
  {
   "cell_type": "markdown",
   "metadata": {},
   "source": [
    "Now we plot the `dinosaurs` field."
   ]
  },
  {
   "cell_type": "code",
   "execution_count": 8,
   "metadata": {},
   "outputs": [
    {
     "data": {
      "text/plain": [
       "Text(0, 0.5, 'Dinosaurs $(K cm / s)$')"
      ]
     },
     "execution_count": 8,
     "metadata": {},
     "output_type": "execute_result"
    },
    {
     "data": {
      "image/png": "[encoded data removed]",
      "text/plain": [
       "<Figure size 432x288 with 1 Axes>"
      ]
     },
     "metadata": {
      "needs_background": "light"
     },
     "output_type": "display_data"
    }
   ],
   "source": [
    "pylab.loglog(np.array(prof.x), np.array(prof[\"dinosaurs\"]), '-x')\n",
    "pylab.xlabel('Density $(g/cm^3)$')\n",
    "pylab.ylabel('Dinosaurs $(K cm / s)$')"
   ]
  },
  {
   "cell_type": "markdown",
   "metadata": {},
   "source": [
    "If we want to see the total mass in every bin, we profile the `cell_mass` field with no weight.  Specifying `weight=None` will simply take the total value in every bin and add that up."
   ]
  },
  {
   "cell_type": "code",
   "execution_count": 9,
   "metadata": {},
   "outputs": [
    {
     "data": {
      "text/plain": [
       "Text(0, 0.5, 'Cell mass $(M_\\\\odot)$')"
      ]
     },
     "execution_count": 9,
     "metadata": {},
     "output_type": "execute_result"
    },
    {
     "data": {
      "image/png": "[encoded data removed]",
      "text/plain": [
       "<Figure size 432x288 with 1 Axes>"
      ]
     },
     "metadata": {
      "needs_background": "light"
     },
     "output_type": "display_data"
    }
   ],
   "source": [
    "prof = yt.Profile1D(sp, \"density\", 32, rho_min, rho_max, True, weight_field=None)\n",
    "prof.add_fields([\"cell_mass\"])\n",
    "pylab.loglog(np.array(prof.x), np.array(prof[\"cell_mass\"].in_units(\"Msun\")), '-x')\n",
    "pylab.xlabel('Density $(g/cm^3)$')\n",
    "pylab.ylabel('Cell mass $(M_\\odot)$')"
   ]
  },
  {
   "cell_type": "markdown",
   "metadata": {},
   "source": [
    "In addition to the low-level `ProfileND` interface, it's also quite straightforward to quickly create plots of profiles using the `ProfilePlot` class.  Let's redo the last plot using `ProfilePlot`"
   ]
  },
  {
   "cell_type": "code",
   "execution_count": 10,
   "metadata": {},
   "outputs": [
    {
     "data": {
      "text/html": [
       "<img style=\"max-width:100%%;max-height:100%%;\" src=\"data:image/png;base64,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\"><br>"
      ],
      "text/plain": [
       "<yt.visualization.profile_plotter.ProfilePlot at 0x11b066128>"
      ]
     },
     "metadata": {},
     "output_type": "display_data"
    }
   ],
   "source": [
    "prof = yt.ProfilePlot(sp, 'density', 'cell_mass', weight_field=None)\n",
    "prof.set_unit('cell_mass', 'Msun')\n",
    "prof.show()"
   ]
  },
  {
   "cell_type": "markdown",
   "metadata": {},
   "source": [
    "## <font color='red'> Tried to combine a profile (a sphere) with a profile splot schema </font>"
   ]
  },
  {
   "cell_type": "code",
   "execution_count": 34,
   "metadata": {},
   "outputs": [],
   "source": [
    "prof_schema = analysis_schema.ProfilePlot(profiles=[sphere_schema])"
   ]
  },
  {
   "cell_type": "code",
   "execution_count": 35,
   "metadata": {},
   "outputs": [
    {
     "data": {
      "text/plain": [
       "'{\"profiles\": [{}], \"x_log\": null, \"y_log\": null, \"x_title\": null, \"y_title\": null}'"
      ]
     },
     "execution_count": 35,
     "metadata": {},
     "output_type": "execute_result"
    }
   ],
   "source": [
    "prof_schema.json()"
   ]
  },
  {
   "cell_type": "markdown",
   "metadata": {},
   "source": [
    "## Field Parameters\n",
    "\n",
    "Field parameters are a method of passing information to derived fields.  For instance, you might pass in information about a vector you want to use as a basis for a coordinate transformation.  yt often uses things like `bulk_velocity` to identify velocities that should be subtracted off.  Here we show how that works:"
   ]
  },
  {
   "cell_type": "code",
   "execution_count": 11,
   "metadata": {},
   "outputs": [
    {
     "name": "stderr",
     "output_type": "stream",
     "text": [
      "yt : [INFO     ] 2020-06-01 10:19:50,224 Max Value is 7.73427e-24 at 0.5040893554687501 0.4998168945312501 0.5001831054687500\n",
      "yt : [INFO     ] 2020-06-01 10:19:52,143 Max Value is 7.73427e-24 at 0.5040893554687501 0.4998168945312501 0.5001831054687500\n"
     ]
    },
    {
     "name": "stdout",
     "output_type": "stream",
     "text": [
      "[ -8934.11243694 198277.64189059 311013.85834147] cm/s\n",
      "[-69582773.17816047  32330373.38084772] cm/s\n",
      "[-69649428.21589643  32236297.22862704] cm/s\n"
     ]
    }
   ],
   "source": [
    "sp_small = ds.sphere(\"max\", (50.0, 'kpc'))\n",
    "bv = sp_small.quantities.bulk_velocity()\n",
    "\n",
    "sp = ds.sphere(\"max\", (0.1, 'Mpc'))\n",
    "rv1 = sp.quantities.extrema(\"radial_velocity\")\n",
    "\n",
    "sp.clear_data()\n",
    "sp.set_field_parameter(\"bulk_velocity\", bv)\n",
    "rv2 = sp.quantities.extrema(\"radial_velocity\")\n",
    "\n",
    "print (bv)\n",
    "print (rv1)\n",
    "print (rv2)"
   ]
  },
  {
   "cell_type": "code",
   "execution_count": null,
   "metadata": {},
   "outputs": [],
   "source": []
  }
 ],
 "metadata": {
  "kernelspec": {
   "display_name": "Python 3",
   "language": "python",
   "name": "python3"
  },
  "language_info": {
   "codemirror_mode": {
    "name": "ipython",
    "version": 3
   },
   "file_extension": ".py",
   "mimetype": "text/x-python",
   "name": "python",
   "nbconvert_exporter": "python",
   "pygments_lexer": "ipython3",
   "version": "3.7.3"
  }
 },
 "nbformat": 4,
 "nbformat_minor": 1
}
